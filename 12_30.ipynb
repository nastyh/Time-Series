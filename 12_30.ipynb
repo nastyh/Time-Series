{
 "cells": [
  {
   "cell_type": "code",
   "execution_count": 1,
   "metadata": {},
   "outputs": [],
   "source": [
    "from fbprophet import Prophet"
   ]
  },
  {
   "cell_type": "code",
   "execution_count": 2,
   "metadata": {},
   "outputs": [],
   "source": [
    "import pandas as pd\n",
    "import numpy as np"
   ]
  },
  {
   "cell_type": "code",
   "execution_count": null,
   "metadata": {},
   "outputs": [],
   "source": [
    "sales = pd.read_csv('/Users/michaelkareev/Desktop/Data Science Recruiting Related/Time-Series/three_by_day.csv')"
   ]
  },
  {
   "cell_type": "code",
   "execution_count": 5,
   "metadata": {},
   "outputs": [
    {
     "data": {
      "text/html": [
       "<div>\n",
       "<style scoped>\n",
       "    .dataframe tbody tr th:only-of-type {\n",
       "        vertical-align: middle;\n",
       "    }\n",
       "\n",
       "    .dataframe tbody tr th {\n",
       "        vertical-align: top;\n",
       "    }\n",
       "\n",
       "    .dataframe thead th {\n",
       "        text-align: right;\n",
       "    }\n",
       "</style>\n",
       "<table border=\"1\" class=\"dataframe\">\n",
       "  <thead>\n",
       "    <tr style=\"text-align: right;\">\n",
       "      <th></th>\n",
       "      <th>Date (Weeks Starting 1st day of Year)</th>\n",
       "      <th>Merchant</th>\n",
       "      <th>MV - Accepted (MCCY)</th>\n",
       "    </tr>\n",
       "  </thead>\n",
       "  <tbody>\n",
       "    <tr>\n",
       "      <th>0</th>\n",
       "      <td>2017-01-01</td>\n",
       "      <td>BARNEYS NEW YORK</td>\n",
       "      <td>11,082</td>\n",
       "    </tr>\n",
       "    <tr>\n",
       "      <th>1</th>\n",
       "      <td>2017-01-01</td>\n",
       "      <td>NORDSTROM</td>\n",
       "      <td>66,166</td>\n",
       "    </tr>\n",
       "    <tr>\n",
       "      <th>2</th>\n",
       "      <td>2017-01-01</td>\n",
       "      <td>SAKS.COM</td>\n",
       "      <td>91,384</td>\n",
       "    </tr>\n",
       "    <tr>\n",
       "      <th>3</th>\n",
       "      <td>2017-01-02</td>\n",
       "      <td>BARNEYS NEW YORK</td>\n",
       "      <td>19,256</td>\n",
       "    </tr>\n",
       "    <tr>\n",
       "      <th>4</th>\n",
       "      <td>2017-01-02</td>\n",
       "      <td>NORDSTROM</td>\n",
       "      <td>96,286</td>\n",
       "    </tr>\n",
       "  </tbody>\n",
       "</table>\n",
       "</div>"
      ],
      "text/plain": [
       "  Date (Weeks Starting 1st day of Year)          Merchant MV - Accepted (MCCY)\n",
       "0                            2017-01-01  BARNEYS NEW YORK               11,082\n",
       "1                            2017-01-01         NORDSTROM               66,166\n",
       "2                            2017-01-01          SAKS.COM               91,384\n",
       "3                            2017-01-02  BARNEYS NEW YORK               19,256\n",
       "4                            2017-01-02         NORDSTROM               96,286"
      ]
     },
     "execution_count": 5,
     "metadata": {},
     "output_type": "execute_result"
    }
   ],
   "source": [
    "sales.head()"
   ]
  },
  {
   "cell_type": "code",
   "execution_count": 23,
   "metadata": {},
   "outputs": [],
   "source": [
    "#three separate dataframes \n",
    "saks = sales[sales['Merchant']=='SAKS.COM']\n",
    "barneys = sales[sales['Merchant']=='BARNEYS NEW YORK']\n",
    "nordstrom = sales[sales['Merchant']=='NORDSTROM']"
   ]
  },
  {
   "cell_type": "code",
   "execution_count": 24,
   "metadata": {},
   "outputs": [],
   "source": [
    "#Drop merchant from respective dataframes\n",
    "saks.drop('Merchant', axis=1, inplace = True)\n",
    "barneys.drop('Merchant', axis=1, inplace = True)\n",
    "nordstrom.drop('Merchant', axis=1, inplace = True)"
   ]
  },
  {
   "cell_type": "code",
   "execution_count": 41,
   "metadata": {},
   "outputs": [],
   "source": [
    "#Rename the columns to something shorter\n",
    "saks.rename(index=str, columns={\"Date (Weeks Starting 1st day of Year)\": \"Date\",\"MV - Accepted (MCCY)\" : \"MV\"}, inplace = True)\n",
    "barneys.rename(index=str, columns={\"Date (Weeks Starting 1st day of Year)\": \"Date\",\"MV - Accepted (MCCY)\" : \"MV\"}, inplace = True)\n",
    "nordstrom.rename(index=str, columns={\"Date (Weeks Starting 1st day of Year)\": \"Date\",\"MV - Accepted (MCCY)\" : \"MV\"}, inplace = True)"
   ]
  },
  {
   "cell_type": "code",
   "execution_count": null,
   "metadata": {},
   "outputs": [],
   "source": [
    "saks['Date'] = pd.to_datetime(saks['Date'])\n",
    "barneys['Date'] = pd.to_datetime(barneys['Date'])\n",
    "nordstrom['Date'] = pd.to_datetime(nordstrom['Date'])"
   ]
  },
  {
   "cell_type": "code",
   "execution_count": null,
   "metadata": {},
   "outputs": [],
   "source": [
    "#Index column is now a date column\n",
    "saks.set_index('Date')\n",
    "barneys.set_index('Date')\n",
    "nordstrom.set_index('Date')"
   ]
  }
 ],
 "metadata": {
  "kernelspec": {
   "display_name": "Python 3",
   "language": "python",
   "name": "python3"
  },
  "language_info": {
   "codemirror_mode": {
    "name": "ipython",
    "version": 3
   },
   "file_extension": ".py",
   "mimetype": "text/x-python",
   "name": "python",
   "nbconvert_exporter": "python",
   "pygments_lexer": "ipython3",
   "version": "3.7.0"
  }
 },
 "nbformat": 4,
 "nbformat_minor": 2
}
